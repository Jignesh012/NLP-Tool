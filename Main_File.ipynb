{
 "cells": [
  {
   "cell_type": "markdown",
   "id": "promising-rebound",
   "metadata": {},
   "source": [
    "## Sub-functions for Whitespace"
   ]
  },
  {
   "cell_type": "code",
   "execution_count": null,
   "id": "dramatic-shock",
   "metadata": {},
   "outputs": [],
   "source": [
    "def Trim_(df):\n",
    "    for i in df.columns:\n",
    "        if df[i].dtype == 'object':\n",
    "            df[i] = df[i].str.strip()\n",
    "        else:\n",
    "            pass\n",
    "    return df\n",
    "def ReplaceLineBreakWithSpace_(df):\n",
    "    for i in df.columns:\n",
    "        if df[i].dtype == 'object':\n",
    "            df[i] = df[i].str.replace('\\n',' ')\n",
    "        else:\n",
    "            pass\n",
    "    return df\n",
    "def MultipleSpacesToSingle_(df):\n",
    "    for i in df.columns:\n",
    "        if df[i].dtype == 'object':\n",
    "            df[i] = df[i].str.replace('\\s+',' ')\n",
    "        else:\n",
    "            pass\n",
    "    return df\n",
    "def MultipleBlankLinesToSingle_(df):\n",
    "    for i in df.columns:\n",
    "        if df[i].dtype == 'object':\n",
    "            df[i] = df[i].str.replace('\\n+','\\n')\n",
    "        else:\n",
    "            pass\n",
    "    return df"
   ]
  },
  {
   "cell_type": "markdown",
   "id": "saving-athens",
   "metadata": {},
   "source": [
    "# Main Function for Whitespace"
   ]
  },
  {
   "cell_type": "code",
   "execution_count": 1,
   "id": "finished-sessions",
   "metadata": {},
   "outputs": [],
   "source": [
    "def Whitespace(df, Trim=False, ReplaceLineBreakWithSpace=False, MultipleSpacesToSingle=False, MultipleBlankLinesToSingle=False):\n",
    "    if Trim == True:\n",
    "        new_df = Trim_(df)\n",
    "    elif ReplaceLineBreakWithSpace == True:\n",
    "        new_df = ReplaceLineBreakWithSpace_(df)\n",
    "    elif MultipleSpacesToSingle == True:\n",
    "        new_df = MultipleSpacesToSingle_(df)\n",
    "    elif MultipleBlankLinesToSingle == True:\n",
    "        new_df = MultipleBlankLinesToSingle_(df)\n",
    "        \n",
    "    return new_df\n",
    "        "
   ]
  },
  {
   "cell_type": "markdown",
   "id": "married-mouth",
   "metadata": {},
   "source": [
    "## Sub-Functions for Characters"
   ]
  },
  {
   "cell_type": "code",
   "execution_count": 2,
   "id": "going-coordination",
   "metadata": {},
   "outputs": [],
   "source": [
    "def RemovePunctuations_(df):\n",
    "    for i in df.columns:\n",
    "        if df[i].dtype == 'object':\n",
    "            df[i] = df[i].apply(remove_punctuation)\n",
    "        else:\n",
    "            pass\n",
    "    return df\n",
    "\n",
    "def RemoveEmojis_(df):\n",
    "    import re\n",
    "    def deEmojify(text):\n",
    "        regrex_pattern = re.compile(pattern = \"[\"\n",
    "            u\"\\U0001F600-\\U0001F64F\"  # emoticons\n",
    "            u\"\\U0001F300-\\U0001F5FF\"  # symbols & pictographs\n",
    "            u\"\\U0001F680-\\U0001F6FF\"  # transport & map symbols\n",
    "            u\"\\U0001F1E0-\\U0001F1FF\"  # flags (iOS)\n",
    "                               \"]+\", flags = re.UNICODE)\n",
    "        return regrex_pattern.sub(r'',text)\n",
    "    for i in df.columns:\n",
    "        if df[i].dtype == 'object':\n",
    "            df[i] = df[i].apply(deEmojify)\n",
    "        else:\n",
    "            pass\n",
    "    return df\n",
    "def RemoveLetterAccent_(df):\n",
    "    import unidecode\n",
    "    def rla(text):\n",
    "        return unidecode.unidecode(text)\n",
    "    for i in df.columns:\n",
    "        if df[i].dtype == 'object':\n",
    "            df[i] = df[i].apply(rla)\n",
    "        else:\n",
    "            pass\n",
    "    return df\n",
    "def NonAlphaNumericCharacter_(df):\n",
    "    def nanc(text):\n",
    "        return re.sub(r'\\W+','',text)\n",
    "    for i in df.columns:\n",
    "        if df[i].dtype == 'object':\n",
    "            df[i] = df[i].apply(nanc)\n",
    "        else:\n",
    "            pass\n",
    "    return df\n",
    "def NonAscciCharacter_(df):\n",
    "    def nac(text):\n",
    "        return re.sub(r'[^\\x00-\\x7F]','',text)\n",
    "    for i in df.columns:\n",
    "        if df[i].dtype == 'object':\n",
    "            df[i] = df[i].apply(nac)\n",
    "        else:\n",
    "            pass\n",
    "    return df\n",
    "def NormalizeUnicodeLetters_(df):  # not sure about this block\n",
    "    def nul(text):\n",
    "        return unicodedata.normalize(u'NFKD', text).encode('ascii', 'ignore').decode('utf8')\n",
    "    for i in df.columns:\n",
    "        if df[i].dtype == 'object':\n",
    "            df[i] = df[i].apply(nul)\n",
    "        else:\n",
    "            pass\n",
    "    return df"
   ]
  },
  {
   "cell_type": "markdown",
   "id": "loaded-jones",
   "metadata": {},
   "source": [
    "# Main Function for Characters"
   ]
  },
  {
   "cell_type": "code",
   "execution_count": 3,
   "id": "printable-employment",
   "metadata": {},
   "outputs": [],
   "source": [
    "def Characters(df, RemovePunctuations=False, RemoveEmojis=False, RemoveLetterAccent=False,\n",
    "               NonAlphaNumericCharacter=False, NonAscciCharacter=False, NormalizeUnicodeLetters=False):\n",
    "    if RemovePunctuations == True:\n",
    "        new_df = RemovePunctuations_(df)\n",
    "    elif RemoveEmojis == True:\n",
    "        new_df = RemoveEmojis_(df)\n",
    "    elif RemoveLetterAccent == True:\n",
    "        new_df = RemoveLetterAccent_(df)\n",
    "    elif NonAlphaNumericCharacter == True:\n",
    "        new_df = NonAlphaNumericCharacter_(df)\n",
    "    elif NonAscciCharacter == True:\n",
    "        new_df = NonAscciCharacter_(df)\n",
    "    elif NormalizeUnicodeLetters == True:\n",
    "        new_df = NormalizeUnicodeLetters_(df)\n",
    "        \n",
    "    return new_df"
   ]
  },
  {
   "cell_type": "code",
   "execution_count": null,
   "id": "legal-conducting",
   "metadata": {},
   "outputs": [],
   "source": []
  },
  {
   "cell_type": "code",
   "execution_count": null,
   "id": "liquid-instrument",
   "metadata": {},
   "outputs": [],
   "source": []
  },
  {
   "cell_type": "markdown",
   "id": "authentic-sellers",
   "metadata": {},
   "source": [
    "## Dataframe to test"
   ]
  },
  {
   "cell_type": "code",
   "execution_count": 6,
   "id": "optical-importance",
   "metadata": {},
   "outputs": [
    {
     "data": {
      "text/html": [
       "<div>\n",
       "<style scoped>\n",
       "    .dataframe tbody tr th:only-of-type {\n",
       "        vertical-align: middle;\n",
       "    }\n",
       "\n",
       "    .dataframe tbody tr th {\n",
       "        vertical-align: top;\n",
       "    }\n",
       "\n",
       "    .dataframe thead th {\n",
       "        text-align: right;\n",
       "    }\n",
       "</style>\n",
       "<table border=\"1\" class=\"dataframe\">\n",
       "  <thead>\n",
       "    <tr style=\"text-align: right;\">\n",
       "      <th></th>\n",
       "      <th>Name</th>\n",
       "      <th>Age</th>\n",
       "      <th>Blood Group</th>\n",
       "      <th>Gender</th>\n",
       "    </tr>\n",
       "  </thead>\n",
       "  <tbody>\n",
       "    <tr>\n",
       "      <th>0</th>\n",
       "      <td>Sun   \\t     ny?</td>\n",
       "      <td>23</td>\n",
       "      <td>A+</td>\n",
       "      <td>M class=\"hello\"</td>\n",
       "    </tr>\n",
       "    <tr>\n",
       "      <th>1</th>\n",
       "      <td>&amp;amp Bun&lt;head&gt;  ny😂!</td>\n",
       "      <td>44</td>\n",
       "      <td>B+</td>\n",
       "      <td>M</td>\n",
       "    </tr>\n",
       "    <tr>\n",
       "      <th>2</th>\n",
       "      <td>Gin&lt;html&gt;ny</td>\n",
       "      <td>23</td>\n",
       "      <td>O+</td>\n",
       "      <td>F</td>\n",
       "    </tr>\n",
       "    <tr>\n",
       "      <th>3</th>\n",
       "      <td>https://url.com/bla1/blah1/ B\\n\\n\\ninny</td>\n",
       "      <td>54</td>\n",
       "      <td>O-</td>\n",
       "      <td>F</td>\n",
       "    </tr>\n",
       "    <tr>\n",
       "      <th>4</th>\n",
       "      <td>hello    python \\n\\n hello world</td>\n",
       "      <td>22</td>\n",
       "      <td>A-</td>\n",
       "      <td>F</td>\n",
       "    </tr>\n",
       "    <tr>\n",
       "      <th>5</th>\n",
       "      <td>Málaga网 http://url.com/bla1/blah1/</td>\n",
       "      <td>11</td>\n",
       "      <td>B-</td>\n",
       "      <td>F</td>\n",
       "    </tr>\n",
       "  </tbody>\n",
       "</table>\n",
       "</div>"
      ],
      "text/plain": [
       "                                       Name  Age Blood Group            Gender\n",
       "0                Sun   \\t     ny?             23          A+   M class=\"hello\"\n",
       "1                      &amp Bun<head>  ny😂!   44          B+                 M\n",
       "2                              Gin<html>ny    23          O+                 F\n",
       "3  https://url.com/bla1/blah1/ B\\n\\n\\ninny    54          O-                 F\n",
       "4          hello    python \\n\\n hello world   22          A-                 F\n",
       "5       Málaga网 http://url.com/bla1/blah1/    11          B-                 F"
      ]
     },
     "execution_count": 6,
     "metadata": {},
     "output_type": "execute_result"
    }
   ],
   "source": [
    "import pandas as pd\n",
    "df = pd.DataFrame({'Name' : ['       Sun   \\t     ny?          ','&amp Bun<head>  ny\\U0001f602!','Gin<html>ny ','https://url.com/bla1/blah1/ B\\n\\n\\ninny ','hello    python \\n\\n hello world','Málaga网 http://url.com/bla1/blah1/ '], \n",
    "                    'Age' : [23,44,23,54,22,11],\n",
    "                    'Blood Group' : [' A+',' B+','O+','O-',' A-','B-'],\n",
    "                   'Gender' : [' M class=\"hello\"',' M','F','F','F',' F']})\n",
    "df"
   ]
  },
  {
   "cell_type": "code",
   "execution_count": null,
   "id": "average-sugar",
   "metadata": {},
   "outputs": [],
   "source": []
  }
 ],
 "metadata": {
  "kernelspec": {
   "display_name": "Python 3",
   "language": "python",
   "name": "python3"
  },
  "language_info": {
   "codemirror_mode": {
    "name": "ipython",
    "version": 3
   },
   "file_extension": ".py",
   "mimetype": "text/x-python",
   "name": "python",
   "nbconvert_exporter": "python",
   "pygments_lexer": "ipython3",
   "version": "3.6.9"
  }
 },
 "nbformat": 4,
 "nbformat_minor": 5
}
